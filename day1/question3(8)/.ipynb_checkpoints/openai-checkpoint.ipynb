{
 "cells": [
  {
   "cell_type": "code",
   "execution_count": 27,
   "id": "3219dcc7-c775-4c00-842b-41d72835043f",
   "metadata": {},
   "outputs": [],
   "source": [
    "import openai\n",
    "import re\n",
    "import time\n",
    "\n",
    "import numpy as np"
   ]
  },
  {
   "cell_type": "code",
   "execution_count": 28,
   "id": "7f738899-f0ff-4e3e-ab38-dcf5e4478d9e",
   "metadata": {},
   "outputs": [],
   "source": [
    "openai.api_key = \"\""
   ]
  },
  {
   "cell_type": "code",
   "execution_count": 29,
   "id": "3f72d3da-282c-45e7-b9e5-ccfa7b89b0b0",
   "metadata": {},
   "outputs": [],
   "source": [
    "def load_prompt(path):\n",
    "    \"\"\"Load prompt from txt file.\"\"\"\n",
    "    with open(path, \"r\") as f:\n",
    "        return f.read()\n",
    "    \n",
    "prompt = load_prompt(\"./prompts/prompt_1.txt\")"
   ]
  },
  {
   "cell_type": "code",
   "execution_count": 35,
   "id": "23d2dbc7-6e43-4601-bb88-1a421c29e21b",
   "metadata": {},
   "outputs": [],
   "source": [
    "test = \"1 3 5 2 9 94 86 1.5 482\""
   ]
  },
  {
   "cell_type": "code",
   "execution_count": 36,
   "id": "343bce30-2fca-4356-ac0c-736b420468d1",
   "metadata": {},
   "outputs": [
    {
     "name": "stdout",
     "output_type": "stream",
     "text": [
      "Sorted numbers in ascending order: 1 1.5 2 3 5 9 86 94 482\n"
     ]
    }
   ],
   "source": [
    "import openai\n",
    "\n",
    "# create a chat completion\n",
    "chat_completion = openai.ChatCompletion.create(\n",
    "    model=\"gpt-3.5-turbo\", \n",
    "    messages=[\n",
    "        {\n",
    "            \"role\": \"user\", \n",
    "            \"content\": prompt\n",
    "        },\n",
    "        {\n",
    "            \"role\": \"user\", \n",
    "            \"content\": test\n",
    "        }\n",
    "    ]\n",
    ")\n",
    "\n",
    "# print the chat completion\n",
    "print(chat_completion.choices[0].message.content)"
   ]
  },
  {
   "cell_type": "code",
   "execution_count": null,
   "id": "35e04e4a-e0d3-4b80-a879-f0fc1026ed77",
   "metadata": {},
   "outputs": [],
   "source": []
  }
 ],
 "metadata": {
  "kernelspec": {
   "display_name": "Python 3 (ipykernel)",
   "language": "python",
   "name": "python3"
  },
  "language_info": {
   "codemirror_mode": {
    "name": "ipython",
    "version": 3
   },
   "file_extension": ".py",
   "mimetype": "text/x-python",
   "name": "python",
   "nbconvert_exporter": "python",
   "pygments_lexer": "ipython3",
   "version": "3.10.12"
  }
 },
 "nbformat": 4,
 "nbformat_minor": 5
}
